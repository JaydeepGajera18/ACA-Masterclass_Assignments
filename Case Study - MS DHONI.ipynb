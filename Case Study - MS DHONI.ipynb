{
 "cells": [
  {
   "cell_type": "markdown",
   "id": "1b99963f",
   "metadata": {},
   "source": [
    "# IS MS DHONI STILL GOOD TO PLAY CRICKET?"
   ]
  },
  {
   "cell_type": "markdown",
   "id": "91223f63",
   "metadata": {},
   "source": [
    "## PARAMETERS TO CONSIDER:\n",
    "### OVERALL PLAY AGAINST SPIN \n",
    "### OVERALL PLAY AGAINST PACE\n",
    "### YEAR BY YEAR PLAY AGAINST SPIN \n",
    "### YEAR BY YEAR PLAY AGAINST PACE\n",
    "### STATS AT HOME VENUE AGAINST SPIN-PACE"
   ]
  },
  {
   "cell_type": "code",
   "execution_count": 1,
   "id": "33c6abd6",
   "metadata": {},
   "outputs": [],
   "source": [
    "import pandas as pd\n",
    "import numpy as np\n",
    "import matplotlib.pyplot as plt\n",
    "\n",
    "pd.set_option('display.max_rows',None)\n",
    "pd.set_option('display.max_columns',None)\n",
    "pd.set_option('display.expand_frame_repr',False)\n",
    "pd.set_option('max_colwidth',None)\n",
    "\n",
    "import warnings\n",
    "warnings.simplefilter(\"ignore\", UserWarning)"
   ]
  },
  {
   "cell_type": "code",
   "execution_count": 2,
   "id": "1da4c581",
   "metadata": {},
   "outputs": [],
   "source": [
    "df = pd.read_excel(\"all_matches.xlsx\")"
   ]
  },
  {
   "cell_type": "code",
   "execution_count": 3,
   "id": "e8f00184",
   "metadata": {},
   "outputs": [],
   "source": [
    "# df.head(1)"
   ]
  },
  {
   "cell_type": "code",
   "execution_count": 4,
   "id": "889041d3",
   "metadata": {},
   "outputs": [],
   "source": [
    "# df[\"batting_team\"].unique()"
   ]
  },
  {
   "cell_type": "code",
   "execution_count": 5,
   "id": "2f44d255",
   "metadata": {},
   "outputs": [],
   "source": [
    "# df[\"striker\"].unique()"
   ]
  },
  {
   "cell_type": "code",
   "execution_count": 6,
   "id": "ee50eb1f",
   "metadata": {},
   "outputs": [],
   "source": [
    "ms = df[df[\"striker\"]==\"MS Dhoni\"]"
   ]
  },
  {
   "cell_type": "code",
   "execution_count": 7,
   "id": "7e84d5ec",
   "metadata": {},
   "outputs": [],
   "source": [
    "# ms.head(1)"
   ]
  },
  {
   "cell_type": "code",
   "execution_count": 8,
   "id": "4d03d4d5",
   "metadata": {},
   "outputs": [],
   "source": [
    "ms1 = ms.groupby(\"bowler\")[\"runs_off_bat\"].sum()\n",
    "ms1 = pd.DataFrame(ms1).reset_index()"
   ]
  },
  {
   "cell_type": "code",
   "execution_count": 9,
   "id": "450720a8",
   "metadata": {},
   "outputs": [],
   "source": [
    "ms2 = ms.groupby(\"bowler\")[\"ball\"].count()\n",
    "ms2 = pd.DataFrame(ms2).reset_index()"
   ]
  },
  {
   "cell_type": "code",
   "execution_count": 10,
   "id": "89d4d76d",
   "metadata": {},
   "outputs": [],
   "source": [
    "ms3 = pd.merge(ms1,ms2,on=\"bowler\",how=\"left\").reset_index(drop=True)"
   ]
  },
  {
   "cell_type": "code",
   "execution_count": 11,
   "id": "9d067d6d",
   "metadata": {},
   "outputs": [],
   "source": [
    "ms = ms3[ms3[\"ball\"]>=25].reset_index(drop=True)"
   ]
  },
  {
   "cell_type": "code",
   "execution_count": 12,
   "id": "dcd76769",
   "metadata": {},
   "outputs": [],
   "source": [
    "ms[\"strike_rate\"] = 100*(ms.runs_off_bat/ms.ball)"
   ]
  },
  {
   "cell_type": "code",
   "execution_count": 13,
   "id": "d5130446",
   "metadata": {},
   "outputs": [],
   "source": [
    "ms.to_excel(\"dhoni.xlsx\")"
   ]
  },
  {
   "cell_type": "code",
   "execution_count": 14,
   "id": "482af298",
   "metadata": {},
   "outputs": [],
   "source": [
    "ms_vs_spin = pd.read_excel(\"ms_spin.xlsx\")\n",
    "ms_vs_pace = pd.read_excel(\"ms_pace.xlsx\")"
   ]
  },
  {
   "cell_type": "code",
   "execution_count": 15,
   "id": "5a261ae5",
   "metadata": {},
   "outputs": [],
   "source": [
    "plt.figure(figsize=(16,8))\n",
    "plt.rcParams['axes.facecolor'] = 'lightyellow'\n",
    "plt.title(\"MS DHONI vs SPIN in IPL(min 25 balls)\",fontsize=20)\n",
    "plt.xlabel(\"Strike Rate\",fontsize=15)\n",
    "plt.ylabel(\"Runs\",fontsize=15)\n",
    "plt.axvline(130,ls=\"--\",color=\"blue\")\n",
    "\n",
    "for i in range(len(ms_vs_spin)):\n",
    "    if ms_vs_spin[\"bowler\"][i]==\"KV Sharma\":\n",
    "        plt.text(ms_vs_spin[\"strike_rate\"][i],ms_vs_spin[\"runs_off_bat\"][i]+1,ms_vs_spin[\"bowler\"][i])\n",
    "    elif ms_vs_spin[\"bowler\"][i]==\"RD Chahar\":\n",
    "        plt.text(ms_vs_spin[\"strike_rate\"][i]-1,ms_vs_spin[\"runs_off_bat\"][i]+2,ms_vs_spin[\"bowler\"][i])\n",
    "    elif ms_vs_spin[\"bowler\"][i]==\"A Kumble\":\n",
    "        plt.text(ms_vs_spin[\"strike_rate\"][i],ms_vs_spin[\"runs_off_bat\"][i]-2,ms_vs_spin[\"bowler\"][i])\n",
    "    elif ms_vs_spin[\"bowler\"][i]==\"CH Gayle\":\n",
    "        plt.text(ms_vs_spin[\"strike_rate\"][i]-2,ms_vs_spin[\"runs_off_bat\"][i]-3,ms_vs_spin[\"bowler\"][i])\n",
    "    elif ms_vs_spin[\"bowler\"][i]==\"Iqbal Abdulla\":\n",
    "        plt.text(ms_vs_spin[\"strike_rate\"][i]-11,ms_vs_spin[\"runs_off_bat\"][i]-1,ms_vs_spin[\"bowler\"][i])\n",
    "    elif ms_vs_spin[\"bowler\"][i]==\"Harbhajan Singh\":\n",
    "        plt.text(ms_vs_spin[\"strike_rate\"][i]-13,ms_vs_spin[\"runs_off_bat\"][i]-1,ms_vs_spin[\"bowler\"][i])\n",
    "    else:\n",
    "        plt.text(ms_vs_spin[\"strike_rate\"][i]+1,ms_vs_spin[\"runs_off_bat\"][i]-1,ms_vs_spin[\"bowler\"][i])\n",
    "\n",
    "plt.scatter(ms_vs_spin.strike_rate,ms_vs_spin.runs_off_bat, )\n",
    "plt.savefig(\"MS_DHONI_vs_SPIN_in_IPL\")\n",
    "plt.show()"
   ]
  },
  {
   "cell_type": "code",
   "execution_count": 16,
   "id": "f9515b77",
   "metadata": {},
   "outputs": [],
   "source": [
    "plt.figure(figsize=(16,8))\n",
    "plt.rcParams['axes.facecolor'] = 'lightyellow'\n",
    "plt.title(\"MS DHONI vs PACE in IPL(min 25 balls)\")\n",
    "plt.xlabel(\"Strike Rate\")\n",
    "plt.ylabel(\"Runs\")\n",
    "plt.axvline(130,ls=\"--\",color=\"blue\")\n",
    "\n",
    "for i in range(len(ms_vs_pace)):\n",
    "#     if ms_vs_spin[\"bowler\"][i]==\"KV Sharma\":\n",
    "#         plt.text(ms_vs_spin[\"strike_rate\"][i]-1,ms_vs_spin[\"runs_off_bat\"][i]+1,ms_vs_spin[\"bowler\"][i])\n",
    "#     elif ms_vs_spin[\"bowler\"][i]==\"RD Chahar\":\n",
    "#         plt.text(ms_vs_spin[\"strike_rate\"][i]-1,ms_vs_spin[\"runs_off_bat\"][i]+2,ms_vs_spin[\"bowler\"][i])\n",
    "#     elif ms_vs_spin[\"bowler\"][i]==\"Rashid Khan\":\n",
    "#         plt.text(ms_vs_spin[\"strike_rate\"][i]-1,ms_vs_spin[\"runs_off_bat\"][i]+2,ms_vs_spin[\"bowler\"][i])\n",
    "#     elif ms_vs_spin[\"bowler\"][i]==\"A Kumble\":\n",
    "#         plt.text(ms_vs_spin[\"strike_rate\"][i],ms_vs_spin[\"runs_off_bat\"][i]-4,ms_vs_spin[\"bowler\"][i])\n",
    "#     elif ms_vs_spin[\"bowler\"][i]==\"Iqbal Abdulla\":\n",
    "#         plt.text(ms_vs_spin[\"strike_rate\"][i]-26,ms_vs_spin[\"runs_off_bat\"][i]-1,ms_vs_spin[\"bowler\"][i])\n",
    "#     elif ms_vs_spin[\"bowler\"][i]==\"RE van der Merwe\":\n",
    "#         plt.text(ms_vs_spin[\"strike_rate\"][i]-36,ms_vs_spin[\"runs_off_bat\"][i]-1,ms_vs_spin[\"bowler\"][i])\n",
    "#     elif ms_vs_spin[\"bowler\"][i]==\"R Ashwin\":\n",
    "#         plt.text(ms_vs_spin[\"strike_rate\"][i]-19,ms_vs_spin[\"runs_off_bat\"][i]-1,ms_vs_spin[\"bowler\"][i])\n",
    "#     elif ms_vs_spin[\"bowler\"][i]==\"CH Gayle\":\n",
    "#         plt.text(ms_vs_spin[\"strike_rate\"][i]-17,ms_vs_spin[\"runs_off_bat\"][i]-4,ms_vs_spin[\"bowler\"][i])\n",
    "#     elif ms_vs_spin[\"bowler\"][i]==\"Kuldeep Yadav\":\n",
    "#         plt.text(ms_vs_spin[\"strike_rate\"][i]-4,ms_vs_spin[\"runs_off_bat\"][i]+2,ms_vs_spin[\"bowler\"][i])\n",
    "#     elif ms_vs_spin[\"bowler\"][i]==\"Harbhajan Singh\":\n",
    "#         plt.text(ms_vs_spin[\"strike_rate\"][i]-33,ms_vs_spin[\"runs_off_bat\"][i]-1,ms_vs_spin[\"bowler\"][i])\n",
    "#     else:\n",
    "        plt.text(ms_vs_pace[\"strike_rate\"][i]+2,ms_vs_pace[\"runs_off_bat\"][i]-1,ms_vs_pace[\"bowler\"][i])\n",
    "\n",
    "plt.scatter(ms_vs_pace.strike_rate,ms_vs_pace.runs_off_bat)\n",
    "plt.savefig(\"MS_DHONI_vs_PACE_in_IPL\")\n",
    "plt.show()"
   ]
  },
  {
   "cell_type": "code",
   "execution_count": 17,
   "id": "4be8eb82",
   "metadata": {},
   "outputs": [],
   "source": [
    "df.tail(1)"
   ]
  },
  {
   "cell_type": "code",
   "execution_count": 18,
   "id": "8ce0e511",
   "metadata": {},
   "outputs": [],
   "source": [
    "df1 = pd.read_excel(\"all_matches_fixed.xlsx\")"
   ]
  },
  {
   "cell_type": "code",
   "execution_count": 19,
   "id": "f6b9e1a8",
   "metadata": {},
   "outputs": [],
   "source": [
    "# df1.year.unique()"
   ]
  },
  {
   "cell_type": "code",
   "execution_count": 20,
   "id": "c586f036",
   "metadata": {},
   "outputs": [],
   "source": [
    "msd1 = df1[df1[\"striker\"]==\"MS Dhoni\"]"
   ]
  },
  {
   "cell_type": "code",
   "execution_count": 21,
   "id": "30b5332c",
   "metadata": {},
   "outputs": [],
   "source": [
    "# msd1.head(1)"
   ]
  },
  {
   "cell_type": "code",
   "execution_count": 22,
   "id": "49764d99",
   "metadata": {},
   "outputs": [],
   "source": [
    "msd2 = msd1.groupby(\"year\")[\"runs_off_bat\"].sum()\n",
    "msd2 = pd.DataFrame(msd2).reset_index()\n",
    "msd3 = msd1.groupby(\"year\")[\"ball\"].count()\n",
    "msd3 = pd.DataFrame(msd3).reset_index()"
   ]
  },
  {
   "cell_type": "code",
   "execution_count": 23,
   "id": "382a5eff",
   "metadata": {},
   "outputs": [],
   "source": [
    "msd4 = pd.merge(msd2,msd3,on=\"year\",how=\"left\").reset_index(drop=True)"
   ]
  },
  {
   "cell_type": "code",
   "execution_count": 24,
   "id": "ebb06fb9",
   "metadata": {},
   "outputs": [],
   "source": [
    "msd4[\"strike_rate\"]=100*(msd4.runs_off_bat/msd4.ball)"
   ]
  },
  {
   "cell_type": "code",
   "execution_count": 25,
   "id": "5a907819",
   "metadata": {},
   "outputs": [],
   "source": [
    "# msd4"
   ]
  },
  {
   "cell_type": "code",
   "execution_count": 26,
   "id": "7b7b72e3",
   "metadata": {},
   "outputs": [],
   "source": [
    "plt.figure(figsize=(16,8))\n",
    "plt.title(\"MS DHONI'S STRIKE RATE OVER THE YEARS IN IPL\",fontsize=20)\n",
    "plt.xlabel(\"Year\",fontsize=15)\n",
    "plt.ylabel(\"Strike Rate\",fontsize=15)\n",
    "plt.plot(msd4.year,msd4.strike_rate,ls=\"-\",marker=\".\",markersize=10)\n",
    "plt.savefig(\"MS DHONI'S STRIKE RATE OVER THE YEARS IN IPL\")\n",
    "plt.show()"
   ]
  },
  {
   "cell_type": "code",
   "execution_count": 27,
   "id": "0349a495",
   "metadata": {},
   "outputs": [],
   "source": [
    "# df1.venue.unique()"
   ]
  },
  {
   "cell_type": "code",
   "execution_count": 28,
   "id": "2e48ac6a",
   "metadata": {},
   "outputs": [],
   "source": [
    "df2 = df1[df1[\"venue\"]==\"MA Chidambaram Stadium\"]"
   ]
  },
  {
   "cell_type": "code",
   "execution_count": 29,
   "id": "3abfff1b",
   "metadata": {},
   "outputs": [],
   "source": [
    "df4 = df1[df1[\"venue\"]==\"MA Chidambaram Stadium, Chepauk\"]"
   ]
  },
  {
   "cell_type": "code",
   "execution_count": 30,
   "id": "7e3bb1cf",
   "metadata": {},
   "outputs": [],
   "source": [
    "df5 = pd.concat([df2,df4])"
   ]
  },
  {
   "cell_type": "code",
   "execution_count": 31,
   "id": "0aa364eb",
   "metadata": {},
   "outputs": [],
   "source": [
    "df5.tail()"
   ]
  },
  {
   "cell_type": "code",
   "execution_count": 32,
   "id": "ff4b4376",
   "metadata": {},
   "outputs": [],
   "source": [
    "df3 = df5[df5[\"striker\"]==\"MS Dhoni\"]"
   ]
  },
  {
   "cell_type": "code",
   "execution_count": 33,
   "id": "efb707b7",
   "metadata": {},
   "outputs": [],
   "source": [
    "# df3.shape"
   ]
  },
  {
   "cell_type": "code",
   "execution_count": 34,
   "id": "f36ea830",
   "metadata": {},
   "outputs": [],
   "source": [
    "msd1 = df3.groupby(\"bowler\")[\"runs_off_bat\"].sum()\n",
    "msd1 = pd.DataFrame(msd1).reset_index()"
   ]
  },
  {
   "cell_type": "code",
   "execution_count": 35,
   "id": "c296d8dd",
   "metadata": {},
   "outputs": [],
   "source": [
    "msd2 = df3.groupby(\"bowler\")[\"ball\"].count()\n",
    "msd2 = pd.DataFrame(msd2).reset_index()"
   ]
  },
  {
   "cell_type": "code",
   "execution_count": 36,
   "id": "00d17c8b",
   "metadata": {},
   "outputs": [],
   "source": [
    "msd3 = pd.merge(msd1,msd2,on=\"bowler\",how=\"left\").reset_index(drop=True)"
   ]
  },
  {
   "cell_type": "code",
   "execution_count": 37,
   "id": "d381ae7f",
   "metadata": {},
   "outputs": [],
   "source": [
    "msd = msd3[msd3[\"ball\"]>=10].reset_index(drop=True)"
   ]
  },
  {
   "cell_type": "code",
   "execution_count": 38,
   "id": "5441a72c",
   "metadata": {},
   "outputs": [],
   "source": [
    "msd[\"strike_rate\"] = 100*(msd.runs_off_bat/msd.ball)"
   ]
  },
  {
   "cell_type": "code",
   "execution_count": 39,
   "id": "c72c584c",
   "metadata": {},
   "outputs": [],
   "source": [
    "msd.to_excel(\"msdvenue.xlsx\")"
   ]
  },
  {
   "cell_type": "code",
   "execution_count": 40,
   "id": "14379da8",
   "metadata": {},
   "outputs": [],
   "source": [
    "msdspin = pd.read_excel(\"msdvenuespin.xlsx\")"
   ]
  },
  {
   "cell_type": "code",
   "execution_count": 41,
   "id": "0c21a107",
   "metadata": {},
   "outputs": [],
   "source": [
    "# msdspin"
   ]
  },
  {
   "cell_type": "code",
   "execution_count": 42,
   "id": "a8b8c53b",
   "metadata": {},
   "outputs": [],
   "source": [
    "plt.figure(figsize=(16,8))\n",
    "plt.title(\"MS DHONI vs SPIN AT HOME VENUE\",fontsize=20)\n",
    "plt.xlabel(\"Strike Rate\",fontsize=15)\n",
    "plt.ylabel(\"Runs\",fontsize=15)\n",
    "plt.axvline(130,ls=\"--\",color=\"blue\")\n",
    "\n",
    "for i in range(len(msdspin)):\n",
    "    if msdspin[\"bowler\"][i]==\"Kuldeep Yadav\":\n",
    "        plt.text(msdspin[\"strike_rate\"][i],msdspin[\"runs_off_bat\"][i]-1,msdspin[\"bowler\"][i])\n",
    "    else:\n",
    "        plt.text(msdspin[\"strike_rate\"][i]+1,msdspin[\"runs_off_bat\"][i],msdspin[\"bowler\"][i])\n",
    "\n",
    "plt.scatter(msdspin.strike_rate,msdspin.runs_off_bat)\n",
    "plt.savefig(\"MS DHONI vs SPIN AT HOME VENUE\")\n",
    "plt.show()"
   ]
  },
  {
   "cell_type": "code",
   "execution_count": 43,
   "id": "cdb8bdda",
   "metadata": {},
   "outputs": [],
   "source": [
    "msdpace = pd.read_excel(\"msdvenuepace.xlsx\")"
   ]
  },
  {
   "cell_type": "code",
   "execution_count": 44,
   "id": "f56dae14",
   "metadata": {},
   "outputs": [],
   "source": [
    "plt.figure(figsize=(16,8))\n",
    "plt.title(\"MS DHONI vs PACE AT HOME VENUE\",fontsize=20)\n",
    "plt.xlabel(\"Strike Rate\",fontsize=15)\n",
    "plt.ylabel(\"Runs\",fontsize=15)\n",
    "plt.axvline(130,ls=\"--\",color=\"blue\")\n",
    "\n",
    "for i in range(len(msdpace)):\n",
    "    if msdpace[\"bowler\"][i]==\"MG Johnson\":\n",
    "        plt.text(msdpace[\"strike_rate\"][i],msdpace[\"runs_off_bat\"][i]-1,msdpace[\"bowler\"][i])\n",
    "    elif msdpace[\"bowler\"][i]==\"RS Bopara\":\n",
    "        plt.text(msdpace[\"strike_rate\"][i]-11,msdpace[\"runs_off_bat\"][i],msdpace[\"bowler\"][i])\n",
    "    else:\n",
    "        plt.text(msdpace[\"strike_rate\"][i]+1,msdpace[\"runs_off_bat\"][i],msdpace[\"bowler\"][i])\n",
    "\n",
    "plt.scatter(msdpace.strike_rate,msdpace.runs_off_bat)\n",
    "plt.savefig(\"MS DHONI vs PACE AT HOME VENUE\")\n",
    "plt.show()"
   ]
  },
  {
   "cell_type": "code",
   "execution_count": null,
   "id": "d9f988c5",
   "metadata": {},
   "outputs": [],
   "source": []
  }
 ],
 "metadata": {
  "kernelspec": {
   "display_name": "Python 3 (ipykernel)",
   "language": "python",
   "name": "python3"
  },
  "language_info": {
   "codemirror_mode": {
    "name": "ipython",
    "version": 3
   },
   "file_extension": ".py",
   "mimetype": "text/x-python",
   "name": "python",
   "nbconvert_exporter": "python",
   "pygments_lexer": "ipython3",
   "version": "3.11.1"
  }
 },
 "nbformat": 4,
 "nbformat_minor": 5
}
