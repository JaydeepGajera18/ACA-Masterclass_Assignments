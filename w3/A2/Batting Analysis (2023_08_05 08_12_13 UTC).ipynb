{
 "cells": [
  {
   "cell_type": "markdown",
   "id": "4ded8de4",
   "metadata": {},
   "source": [
    "# <font color = 'radium'> Batting Analysis </font>"
   ]
  },
  {
   "cell_type": "code",
   "execution_count": 1,
   "id": "0628b455",
   "metadata": {},
   "outputs": [],
   "source": [
    "import warnings\n",
    "warnings.filterwarnings('ignore')\n",
    "import pandas as pd\n",
    "import numpy as np\n",
    "import matplotlib.pyplot as plt\n",
    "\n",
    "pd.set_option('display.max_rows',None)\n",
    "pd.set_option('display.max_columns',None)\n",
    "pd.set_option('display.expand_frame_repr',False)\n",
    "pd.set_option('max_colwidth',-1)"
   ]
  },
  {
   "cell_type": "code",
   "execution_count": 2,
   "id": "4eb98e03",
   "metadata": {},
   "outputs": [],
   "source": [
    "main_df = pd.read_csv('cleaned_ipl_dataset_2008_to_2022.csv')"
   ]
  },
  {
   "cell_type": "code",
   "execution_count": 3,
   "id": "fa7ae38a",
   "metadata": {},
   "outputs": [],
   "source": [
    "df  = pd.read_csv('cleaned_ipl_dataset_2008_to_2022.csv')"
   ]
  },
  {
   "cell_type": "code",
   "execution_count": 4,
   "id": "ab09bc5e",
   "metadata": {},
   "outputs": [],
   "source": [
    "def BPB(balls,boundaries):\n",
    "    if boundaries == 0:\n",
    "        return balls/1\n",
    "    else:\n",
    "        return balls/boundaries\n",
    "def BPD(balls,dismissals):\n",
    "    if dismissals == 0:\n",
    "        return balls/1\n",
    "    else:\n",
    "        return balls/dismissals"
   ]
  },
  {
   "cell_type": "code",
   "execution_count": 5,
   "id": "e343704e",
   "metadata": {},
   "outputs": [],
   "source": [
    "# def ByInnings(df,current_inning):\n",
    "    \n",
    "#     df = df[(df.innings == current_inning)]\n",
    "#     df.reset_index(inplace = True, drop = True)  \n",
    "    \n",
    "#     df['Dots'] = df.runs_off_bat.apply(lambda x : 1 if x==0 else 0)\n",
    "#     df['Ones'] = df.runs_off_bat.apply(lambda x : 1 if x==1 else 0)\n",
    "#     df['Twos'] = df.runs_off_bat.apply(lambda x : 1 if x==2 else 0)\n",
    "#     df['Threes'] = df.runs_off_bat.apply(lambda x : 1 if x==3 else 0)\n",
    "#     df['Fours'] = df.runs_off_bat.apply(lambda x : 1 if x==4 else 0)\n",
    "#     df['Sixes'] = df.runs_off_bat.apply(lambda x : 1 if x==6 else 0)\n",
    "\n",
    "#     Innings = pd.DataFrame(df.groupby(df['striker'])['match_id'].apply(lambda x : len(list(np.unique(x))))).reset_index().rename(columns={'match_id':'innings'})\n",
    "#     Runs = pd.DataFrame(df.groupby(['striker'])['runs_off_bat'].sum()).reset_index().rename(columns={'runs_off_bat':'runs'})\n",
    "#     Balls = pd.DataFrame(df.groupby(['striker'])['legal_ball'].sum()).reset_index().rename(columns={'legal_ball':'balls'})\n",
    "#     Dismissals = pd.DataFrame(df.groupby(['striker'])['player_dismissed'].count()).reset_index().rename(columns={'player_dismissed':'dismissals'})\n",
    "#     Fours = pd.DataFrame(df.groupby(['striker'])['Fours'].sum()).reset_index()\n",
    "#     Sixes = pd.DataFrame(df.groupby(['striker'])['Sixes'].sum()).reset_index()\n",
    "#     Dots = pd.DataFrame(df.groupby(['striker'])['Dots'].sum()).reset_index()\n",
    "\n",
    "#     playerDf = pd.merge(Innings,Runs,on='striker').merge(Balls,on='striker').merge(Dismissals,on='striker').merge(Fours,on='striker').merge(Sixes,on='striker')\n",
    "\n",
    "#     playerDf = playerDf.rename(columns={'striker':'batter'})\n",
    "#     playerDf = playerDf[(playerDf.Balls >= 30)]\n",
    "    \n",
    "#     playerDf['RPI'] = playerDf.apply(lambda x : x['runs']/x['innings'], axis=1)\n",
    "#     playerDf['SR'] = playerDf.apply(lambda x : (x['runs']/x['balls'])*100, axis=1)\n",
    "    \n",
    "#     return playerDf"
   ]
  },
  {
   "cell_type": "code",
   "execution_count": 6,
   "id": "2ad26256",
   "metadata": {},
   "outputs": [],
   "source": [
    "# inn1 = ByInnings(df,1)\n",
    "# inn1 = inn1[['batter','RPI']].rename(columns={'RPI':'RPI_1'})\n",
    "\n",
    "# inn2 = ByInnings(df,2)\n",
    "# inn2 = inn2[['batter','RPI']].rename(columns={'RPI':'RPI_2'})\n",
    "\n",
    "# inn = inn1.merge(inn2,on='batter')\n",
    "\n",
    "# plt.scatter(inn.RPI_1,inn.RPI_2)\n",
    "\n",
    "# selected_batters = ['SK Raina','V Kohli','MS Dhoni','AB de Villiers','CH Gayle','DA Warner','S Dhawan','HM Amla','KL Rahul']\n",
    "# annotations = list(inn['batter'])\n",
    "\n",
    "# for i,j in enumerate(annotations):\n",
    "#     if j in selected_batters:\n",
    "#         plt.annotate(j,(inn['RPI_1'][i],inn['RPI_2'][i]))\n",
    "\n",
    "# plt.title('Batter Runs Comparison for both innings')\n",
    "# plt.xlabel('1st inning')\n",
    "# plt.ylabel('2nd inning')\n",
    "# plt.show()"
   ]
  },
  {
   "cell_type": "code",
   "execution_count": 7,
   "id": "6ddc9540",
   "metadata": {
    "scrolled": true
   },
   "outputs": [],
   "source": [
    "# inn1 = ByInnings(df,1)\n",
    "# inn1 = inn1[['batter','SR']].rename(columns={'SR':'SR_1'})\n",
    "\n",
    "# inn2 = ByInnings(df,2)\n",
    "# inn2 = inn2[['batter','SR']].rename(columns={'SR':'SR_2'})\n",
    "\n",
    "# inn = inn1.merge(inn2,on='batter')\n",
    "# inn = inn[(inn.SR_1 >= 100) | (inn.SR_2 >= 100)]\n",
    "# inn.reset_index(inplace=True,drop=True)\n",
    "\n",
    "# plt.scatter(inn.SR_1,inn.SR_2)\n",
    "\n",
    "# selected_batters = ['SK Raina','V Kohli','MS Dhoni','AB de Villiers','CH Gayle','DA Warner','S Dhawan','HM Amla','KL Rahul']\n",
    "# annotations = list(inn['batter'])\n",
    "\n",
    "# for i,j in enumerate(annotations):\n",
    "#     if j in selected_batters:\n",
    "#         plt.annotate(j,(inn['SR_1'][i],inn['SR_2'][i]))\n",
    "\n",
    "# plt.title('Batter Strike Rate Comparison for both innings')\n",
    "# plt.xlabel('1st inning')\n",
    "# plt.ylabel('2nd inning')\n",
    "# plt.show()"
   ]
  },
  {
   "cell_type": "code",
   "execution_count": 8,
   "id": "3af58f21",
   "metadata": {},
   "outputs": [],
   "source": [
    "# inn1 = ByInnings(df,1)\n",
    "# inn1 = inn1[['batter','Sixes']].rename(columns={'Sixes':'Sixes_1'})\n",
    "\n",
    "# inn2 = ByInnings(df,2)\n",
    "# inn2 = inn2[['batter','Sixes']].rename(columns={'Sixes':'Sixes_2'})\n",
    "\n",
    "# inn = inn1.merge(inn2,on='batter')\n",
    "\n",
    "# plt.scatter(inn.Sixes_1,inn.Sixes_2)\n",
    "\n",
    "# selected_batters = ['SK Raina','V Kohli','MS Dhoni','AB de Villiers','CH Gayle','DA Warner','S Dhawan','HM Amla','KL Rahul']\n",
    "# annotations = list(inn['batter'])\n",
    "\n",
    "# for i,j in enumerate(annotations):\n",
    "#     if j in selected_batters:\n",
    "#         plt.annotate(j,(inn['Sixes_1'][i],inn['Sixes_2'][i]))\n",
    "\n",
    "# plt.title('Batter Sixes Comparison for both innings')\n",
    "# plt.xlabel('1st inning')\n",
    "# plt.ylabel('2nd inning')\n",
    "# plt.show()"
   ]
  },
  {
   "cell_type": "code",
   "execution_count": 9,
   "id": "3417d084",
   "metadata": {},
   "outputs": [],
   "source": [
    "# def ByPhase(df,phase):\n",
    "    \n",
    "# #     phases = ['MO', 'PP', 'DO']\n",
    "\n",
    "#     df = df[(df.phase == phase)]\n",
    "#     df.reset_index(inplace = True, drop = True)  \n",
    "    \n",
    "#     df['Dots'] = df.runs_off_bat.apply(lambda x : 1 if x==0 else 0)\n",
    "#     df['Ones'] = df.runs_off_bat.apply(lambda x : 1 if x==1 else 0)\n",
    "#     df['Twos'] = df.runs_off_bat.apply(lambda x : 1 if x==2 else 0)\n",
    "#     df['Threes'] = df.runs_off_bat.apply(lambda x : 1 if x==3 else 0)\n",
    "#     df['Fours'] = df.runs_off_bat.apply(lambda x : 1 if x==4 else 0)\n",
    "#     df['Sixes'] = df.runs_off_bat.apply(lambda x : 1 if x==6 else 0)\n",
    "\n",
    "#     Innings = pd.DataFrame(df.groupby(df['striker'])['match_id'].apply(lambda x : len(list(np.unique(x))))).reset_index().rename(columns={'match_id':'innings'})\n",
    "#     Runs = pd.DataFrame(df.groupby(['striker'])['runs_off_bat'].sum()).reset_index().rename(columns={'runs_off_bat':'runs'})\n",
    "#     Balls = pd.DataFrame(df.groupby(['striker'])['legal_ball'].sum()).reset_index().rename(columns={'legal_ball':'balls'})\n",
    "#     Dismissals = pd.DataFrame(df.groupby(['striker'])['player_dismissed'].count()).reset_index().rename(columns={'player_dismissed':'dismissals'})\n",
    "#     Fours = pd.DataFrame(df.groupby(['striker'])['Fours'].sum()).reset_index()\n",
    "#     Sixes = pd.DataFrame(df.groupby(['striker'])['Sixes'].sum()).reset_index()\n",
    "#     Dots = pd.DataFrame(df.groupby(['striker'])['Dots'].sum()).reset_index()\n",
    "\n",
    "#     playerDf = pd.merge(Innings,Runs,on='striker').merge(Balls,on='striker').merge(Dismissals,on='striker').merge(Fours,on='striker').merge(Sixes,on='striker')\n",
    "\n",
    "#     playerDf = playerDf.rename(columns={'striker':'batter'})\n",
    "#     playerDf = playerDf[(playerDf.balls >= 30)]\n",
    "    \n",
    "#     playerDf['RPI'] = playerDf.apply(lambda x : x['runs']/x['innings'], axis=1)\n",
    "#     playerDf['SR'] = playerDf.apply(lambda x : (x['runs']/x['balls'])*100, axis=1)\n",
    "#     playerDf['BPB'] = playerDf.apply(lambda x : BPB(x['balls'],x['Fours'],x['Sixes']), axis=1)\n",
    "    \n",
    "#     return playerDf"
   ]
  },
  {
   "cell_type": "code",
   "execution_count": 10,
   "id": "e07dc4cd",
   "metadata": {},
   "outputs": [],
   "source": [
    "# powerplay = ByPhase(df,'PP')\n",
    "# powerplay = powerplay[['batter','BPB']].rename(columns={'BPB':'BPB_pp'})\n",
    "# powerplay = powerplay.sort_values(by='BPB_pp',ascending=True).head(30)\n",
    "\n",
    "# middleovers = ByPhase(df,'MO')\n",
    "# middleovers = middleovers[['batter','BPB']].rename(columns={'BPB':'BPB_mo'})\n",
    "# middleovers = middleovers.sort_values(by='BPB_mo',ascending=True).head(30)\n",
    "\n",
    "# deathovers = ByPhase(df,'DO')\n",
    "# deathovers = deathovers[['batter','BPB']].rename(columns={'BPB':'BPB_do'})\n",
    "# deathovers = deathovers.sort_values(by='BPB_do',ascending=True).head(30)\n",
    "\n",
    "# phases = powerplay.merge(middleovers,on='batter').merge(deathovers,on='batter')\n",
    "\n",
    "# plt.barh(powerplay.batter,powerplay.BPB_pp)\n",
    "# plt.title('Batter Balls per Boundaries in PowerPlay')\n",
    "# plt.xlabel('1st inning')\n",
    "# plt.ylabel('2nd inning')\n",
    "# plt.show()\n",
    "\n",
    "# plt.barh(middleovers.batter,middleovers.BPB_mo)\n",
    "# plt.title('Batter Balls per Boundaries in Middle Overs')\n",
    "# plt.xlabel('1st inning')\n",
    "# plt.ylabel('2nd inning')\n",
    "# plt.show()\n",
    "\n",
    "# plt.barh(deathovers.batter,deathovers.BPB_do)\n",
    "# plt.title('Batter Balls per Boundaries in Death Overs')\n",
    "# plt.xlabel('1st inning')\n",
    "# plt.ylabel('2nd inning')\n",
    "# plt.show()"
   ]
  },
  {
   "cell_type": "markdown",
   "id": "7a81652a",
   "metadata": {},
   "source": [
    "## <font color = 'radium'>PROBLEM STATEMENT >>> How good is player X against MI in Wankhede when they're playing 3 spinners? </font>"
   ]
  },
  {
   "cell_type": "code",
   "execution_count": 11,
   "id": "6f8552b0",
   "metadata": {},
   "outputs": [],
   "source": [
    "# opposition - MI\n",
    "# venue - Wankhede\n",
    "# bowling_type - Spin (assuming atleast 3 different spin bowlers are bowling throughout the inning)"
   ]
  },
  {
   "cell_type": "code",
   "execution_count": 12,
   "id": "89bc1b21",
   "metadata": {},
   "outputs": [],
   "source": [
    "def ByCustom(df, bowling_team, venue, bowling_style):\n",
    "\n",
    "    df = df[(df.bowling_team == bowling_team)]\n",
    "    df = df[(df.venue == venue)]\n",
    "    df = df[(df.bowling_style == bowling_style)]\n",
    "    df.reset_index(inplace = True, drop = True)  \n",
    "    \n",
    "    df['dots'] = df.runs_off_bat.apply(lambda x : 1 if x==0 else 0)\n",
    "    df['ones'] = df.runs_off_bat.apply(lambda x : 1 if x==1 else 0)\n",
    "    df['twos'] = df.runs_off_bat.apply(lambda x : 1 if x==2 else 0)\n",
    "    df['threes'] = df.runs_off_bat.apply(lambda x : 1 if x==3 else 0)\n",
    "    df['fours'] = df.runs_off_bat.apply(lambda x : 1 if x==4 else 0)\n",
    "    df['sixes'] = df.runs_off_bat.apply(lambda x : 1 if x==6 else 0)\n",
    "\n",
    "    Innings = pd.DataFrame(df.groupby(df['striker'])['match_id'].apply(lambda x : len(list(np.unique(x))))).reset_index().rename(columns={'match_id':'innings'})\n",
    "    Runs = pd.DataFrame(df.groupby(['striker'])['runs_off_bat'].sum()).reset_index().rename(columns={'runs_off_bat':'runs'})\n",
    "    Balls = pd.DataFrame(df.groupby(['striker'])['legal_ball'].sum()).reset_index().rename(columns={'legal_ball':'balls'})\n",
    "    Dismissals = pd.DataFrame(df.groupby(['striker'])['player_dismissed'].count()).reset_index().rename(columns={'player_dismissed':'dismissals'})\n",
    "    Fours = pd.DataFrame(df.groupby(['striker'])['fours'].sum()).reset_index()\n",
    "    Sixes = pd.DataFrame(df.groupby(['striker'])['sixes'].sum()).reset_index()\n",
    "    Dots = pd.DataFrame(df.groupby(['striker'])['dots'].sum()).reset_index()\n",
    "\n",
    "    playerDf = pd.merge(Innings,Runs,on='striker').merge(Balls,on='striker').merge(Dismissals,on='striker').merge(Fours,on='striker').merge(Sixes,on='striker').merge(Dots,on='striker')\n",
    "\n",
    "    playerDf = playerDf.rename(columns={'striker':'batter'})\n",
    "    playerDf = playerDf[(playerDf.balls >= 30) & (playerDf.innings >= 3)]\n",
    "    \n",
    "    playerDf['rpi'] = playerDf.apply(lambda x : x['runs']/x['innings'], axis=1)\n",
    "    playerDf['sr'] = playerDf.apply(lambda x : (x['runs']/x['balls'])*100, axis=1)\n",
    "    playerDf['bpb'] = playerDf.apply(lambda x : BPB(x['balls'],(x['fours']+x['sixes'])), axis=1)\n",
    "    playerDf['bpd'] = playerDf.apply(lambda x : BPD(x['balls'],x['dismissals']), axis=1)\n",
    "    playerDf['dot%'] = playerDf.apply(lambda x : 100*(x['dots']/x['balls']), axis=1)\n",
    "    \n",
    "    return playerDf"
   ]
  },
  {
   "cell_type": "code",
   "execution_count": 13,
   "id": "5dc9f758",
   "metadata": {},
   "outputs": [],
   "source": [
    "dff = ByCustom(df,'Mumbai Indians','Wankhede Stadium','Spin')"
   ]
  },
  {
   "cell_type": "markdown",
   "id": "04ea41a3",
   "metadata": {},
   "source": [
    "\n",
    "### <font color = 'radium'>TOPSIS METHOD: for normalization of all values between 0 to 1 and finding a singular value of batter</font>"
   ]
  },
  {
   "cell_type": "code",
   "execution_count": 14,
   "id": "c4306ecc",
   "metadata": {},
   "outputs": [],
   "source": [
    "wt_sr,wt_rpi,wt_bpd,wt_dot = 1.061,1.061,0.355,2.221\n",
    "\n",
    "dff['calc_dot%'] = dff['dot%'].apply(lambda x : x*x)\n",
    "dff['calc_rpi'] = dff['rpi'].apply(lambda x : x*x)\n",
    "dff['calc_bpd'] = dff['bpd'].apply(lambda x : x*x)\n",
    "dff['calc_sr'] = dff['sr'].apply(lambda x : x*x)\n",
    "\n",
    "sq_dot,sq_rpi,sq_bpd,sq_sr = np.sqrt(dff[['calc_dot%','calc_rpi','calc_bpd','calc_sr']]).sum(axis=0)\n",
    "\n",
    "dff['calc_dot%'] = dff['dot%'].apply(lambda x : x/sq_dot)\n",
    "dff['calc_rpi'] = dff['rpi'].apply(lambda x : x/sq_rpi)\n",
    "dff['calc_bpd'] = dff['bpd'].apply(lambda x : x/sq_bpd)\n",
    "dff['calc_sr'] = dff['sr'].apply(lambda x : x/sq_sr)\n",
    "\n",
    "dff['calc_dot%'] = dff['calc_dot%'].apply(lambda x : x*wt_dot)\n",
    "dff['calc_rpi'] = dff['calc_rpi'].apply(lambda x : x*wt_rpi)\n",
    "dff['calc_bpd'] = dff['calc_bpd'].apply(lambda x : x*wt_bpd)\n",
    "dff['calc_sr'] = dff['calc_sr'].apply(lambda x : x*wt_sr)\n",
    "\n",
    "best_dot,worst_dot = min(dff['calc_dot%']),max(dff['calc_dot%'])\n",
    "best_rpi,worst_rpi = max(dff['calc_rpi']),min(dff['calc_rpi'])\n",
    "best_bpd,worst_bpd = max(dff['calc_bpd']),min(dff['calc_bpd'])\n",
    "best_sr,worst_sr = max(dff['calc_sr']),min(dff['calc_sr'])\n",
    "\n",
    "dff['b_dot%'] = dff['calc_dot%'].apply(lambda x : (x-best_dot)*(x-best_dot))\n",
    "dff['b_rpi'] = dff['calc_rpi'].apply(lambda x : (x-best_rpi)*(x-best_rpi))\n",
    "dff['b_bpd'] = dff['calc_bpd'].apply(lambda x : (x-best_bpd)*(x-best_bpd))\n",
    "dff['b_sr'] = dff['calc_sr'].apply(lambda x : (x-best_sr)*(x-best_sr))\n",
    "\n",
    "dff['best_score'] = np.sqrt(dff['b_dot%']+dff['b_rpi']+dff['b_bpd']+dff['b_sr'])\n",
    "\n",
    "dff['w_dot%'] = dff['calc_dot%'].apply(lambda x : (x-worst_dot)*(x-worst_dot))\n",
    "dff['w_rpi'] = dff['calc_rpi'].apply(lambda x : (x-worst_rpi)*(x-worst_rpi))\n",
    "dff['w_bpd'] = dff['calc_bpd'].apply(lambda x : (x-worst_bpd)*(x-worst_bpd))\n",
    "dff['w_sr'] = dff['calc_sr'].apply(lambda x : (x-worst_sr)*(x-worst_sr))\n",
    "\n",
    "dff['worst_score'] = np.sqrt(dff['w_dot%']+dff['w_rpi']+dff['w_bpd']+dff['w_sr'])\n",
    "\n",
    "dff['score'] = dff['worst_score']/(dff['worst_score']+dff['best_score'])"
   ]
  },
  {
   "cell_type": "code",
   "execution_count": 15,
   "id": "e806c85b",
   "metadata": {},
   "outputs": [],
   "source": [
    "dff = dff.sort_values(by='score',ascending=False).reset_index()"
   ]
  },
  {
   "cell_type": "code",
   "execution_count": 21,
   "id": "7751fd84",
   "metadata": {
    "scrolled": true
   },
   "outputs": [
    {
     "data": {
      "image/png": "[encoded data removed]",
      "text/plain": [
       "<Figure size 800x400 with 1 Axes>"
      ]
     },
     "metadata": {},
     "output_type": "display_data"
    }
   ],
   "source": [
    "plt.figure(figsize=(8,4))\n",
    "plt.barh(dff.batter,dff.score)\n",
    "\n",
    "plt.title(\"BATTER AT WANKHEDE AGAINST MI'S SPIN BOWLERS\")\n",
    "plt.xlabel('SCORE')\n",
    "plt.ylabel('BATTER')\n",
    "plt.show()"
   ]
  },
  {
   "cell_type": "code",
   "execution_count": null,
   "id": "6cfc0ba8",
   "metadata": {},
   "outputs": [],
   "source": []
  }
 ],
 "metadata": {
  "kernelspec": {
   "display_name": "Python 3 (ipykernel)",
   "language": "python",
   "name": "python3"
  },
  "language_info": {
   "codemirror_mode": {
    "name": "ipython",
    "version": 3
   },
   "file_extension": ".py",
   "mimetype": "text/x-python",
   "name": "python",
   "nbconvert_exporter": "python",
   "pygments_lexer": "ipython3",
   "version": "3.11.1"
  }
 },
 "nbformat": 4,
 "nbformat_minor": 5
}
