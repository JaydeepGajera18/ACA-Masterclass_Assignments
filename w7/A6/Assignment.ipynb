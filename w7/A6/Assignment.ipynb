{
 "cells": [
  {
   "cell_type": "markdown",
   "id": "0056d19f",
   "metadata": {},
   "source": [
    "# Assignment – Build the same interactive ML Model for IPL final 2023 – GT vs CSK"
   ]
  },
  {
   "cell_type": "code",
   "execution_count": 1,
   "id": "d20c0ac4",
   "metadata": {},
   "outputs": [],
   "source": [
    "import warnings\n",
    "warnings.filterwarnings('ignore')\n",
    "import pandas as pd\n",
    "import numpy as np\n",
    "import matplotlib.pyplot as plt\n",
    "import seaborn as sns\n",
    "\n",
    "pd.set_option('display.max_rows',None)\n",
    "pd.set_option('display.max_columns',None)\n",
    "pd.set_option('display.expand_frame_repr',False)\n",
    "pd.set_option('max_colwidth',-1)"
   ]
  },
  {
   "cell_type": "markdown",
   "id": "5e534fc6",
   "metadata": {},
   "source": [
    "# Fetching Probability Values:"
   ]
  },
  {
   "cell_type": "code",
   "execution_count": 2,
   "id": "79e8be0e",
   "metadata": {},
   "outputs": [],
   "source": [
    "t20 = pd.read_csv('all_matches.csv')\n",
    "\n",
    "t20['total_runs'] = t20.apply(lambda x : x['runs_off_bat'] + x['extras'],axis=1)\n",
    "\n",
    "t20['isOut'] = t20['player_dismissed'].apply(lambda x : 1 if type(x) == type('str') else 0)\n",
    "\n",
    "t20_dff = t20.sort_values(['match_id','innings','ball'], ascending=[True,True,True]).reset_index(drop=True)\n",
    "\n",
    "t1 = 'Gujarat Titans'\n",
    "t2 = 'Chennai Super Kings'\n",
    "\n",
    "t1_outcome_counts = t20_dff[t20_dff.batting_team==t1].total_runs.value_counts()\n",
    "t2_outcome_counts = t20_dff[t20_dff.batting_team==t2].total_runs.value_counts()\n",
    "\n",
    "t1_outs = t20_dff[t20_dff.batting_team==t1].isOut.sum()\n",
    "t2_outs = t20_dff[t20_dff.batting_team==t2].isOut.sum()\n",
    "\n",
    "# 0,1,2,3,4,5,6,7,8,w\n",
    "outcomes = [0,1,2,3,4,6,'w']\n",
    "\n",
    "t1_outcomes = []\n",
    "t2_outcomes = []\n",
    "\n",
    "for outcome in outcomes:\n",
    "    if outcome != 'w':\n",
    "        t1_outcomes.append(t1_outcome_counts[outcome])\n",
    "        t2_outcomes.append(t2_outcome_counts[outcome])\n",
    "    else:\n",
    "        t1_outcomes.append(t1_outs)\n",
    "        t2_outcomes.append(t2_outs)\n",
    "\n",
    "t1_pb_outcomes = [i/sum(t1_outcomes) for i in t1_outcomes]\n",
    "t2_pb_outcomes = [i/sum(t2_outcomes) for i in t2_outcomes]\n",
    "\n",
    "t1_pb_ls = np.cumsum(t1_pb_outcomes)\n",
    "t2_pb_ls = np.cumsum(t2_pb_outcomes)"
   ]
  },
  {
   "cell_type": "code",
   "execution_count": 3,
   "id": "4e193cb6",
   "metadata": {},
   "outputs": [
    {
     "data": {
      "text/plain": [
       "(array([0.28958084, 0.71976048, 0.78610778, 0.78826347, 0.91137725,\n",
       "        0.95976048, 1.        ]),\n",
       " array([0.32709314, 0.73127942, 0.7968906 , 0.80067038, 0.90867922,\n",
       "        0.95835116, 1.        ]))"
      ]
     },
     "execution_count": 3,
     "metadata": {},
     "output_type": "execute_result"
    }
   ],
   "source": [
    "t1_pb_ls,t2_pb_ls"
   ]
  },
  {
   "cell_type": "markdown",
   "id": "e28ba4f4",
   "metadata": {},
   "source": [
    "## Run Prediction Function:"
   ]
  },
  {
   "cell_type": "code",
   "execution_count": 4,
   "id": "70f996de",
   "metadata": {},
   "outputs": [],
   "source": [
    "def run_prediction(current_score,current_wickets,current_overs,target):\n",
    "\n",
    "    pred_runs = current_score\n",
    "    pred_wickets = current_wickets\n",
    "    overs = current_overs\n",
    "    \n",
    "    leftover_balls = 90 - current_overs*6\n",
    "\n",
    "    i2_p0 = t2_pb_ls[0]\n",
    "    i2_p1 = t2_pb_ls[1]\n",
    "    i2_p2 = t2_pb_ls[2]\n",
    "    i2_p3 = t2_pb_ls[3]\n",
    "    i2_p4 = t2_pb_ls[4]\n",
    "    i2_p6 = t2_pb_ls[5]\n",
    "    i2_pw = t2_pb_ls[6]\n",
    "\n",
    "    for i in range(leftover_balls):\n",
    "        r_value = np.random.random()\n",
    "\n",
    "        if r_value <= i2_p0:\n",
    "            pred_runs += 0\n",
    "        elif r_value <= i2_p1:\n",
    "            pred_runs += 1\n",
    "        elif r_value <= i2_p2:\n",
    "            pred_runs += 2\n",
    "        elif r_value <= i2_p3:\n",
    "            pred_runs += 3\n",
    "        elif r_value <= i2_p4:\n",
    "            pred_runs += 4\n",
    "        elif r_value <= i2_p6:\n",
    "            pred_runs += 6\n",
    "        else:\n",
    "            pred_runs += 0\n",
    "            pred_wickets += 1\n",
    "\n",
    "            if (pred_wickets == 10):\n",
    "                break\n",
    "                \n",
    "        if pred_runs > target:\n",
    "            break\n",
    "            \n",
    "    return pred_runs"
   ]
  },
  {
   "cell_type": "markdown",
   "id": "5ad356ee",
   "metadata": {},
   "source": [
    "## Get Win Function:"
   ]
  },
  {
   "cell_type": "code",
   "execution_count": 5,
   "id": "36febb68",
   "metadata": {},
   "outputs": [],
   "source": [
    "def get_win(pred_runs, target):\n",
    "    if pred_runs > target:\n",
    "        return 'win'\n",
    "    elif pred_runs == target:\n",
    "        return 'tie'\n",
    "    else:\n",
    "        return 'lose'"
   ]
  },
  {
   "cell_type": "markdown",
   "id": "f263b2ad",
   "metadata": {},
   "source": [
    "# Win Count from Run Prediction:"
   ]
  },
  {
   "cell_type": "code",
   "execution_count": 6,
   "id": "70c35a22",
   "metadata": {},
   "outputs": [],
   "source": [
    "# runs, wickets, overs, \n",
    "# win - 1st ing score\n",
    "\n",
    "# GT - 214/4\n",
    "# 171 in 15 overs Due to DLS\n",
    "target = 171\n",
    "\n",
    "current_score = 7\n",
    "current_wickets = 78\n",
    "current_overs = 2\n",
    "\n",
    "runs_ls = []\n",
    "results_ls = []\n",
    "\n",
    "win_count = 0\n",
    "tie_count = 0\n",
    "lose_count = 0\n",
    "\n",
    "\n",
    "for i in range(100):\n",
    "    pred_runs = run_prediction(current_score,current_wickets,current_overs,target)\n",
    "    runs_ls.append(pred_runs)\n",
    "    result_pred = get_win(pred_runs, target)\n",
    "    results_ls.append(result_pred)\n",
    "\n",
    "    if result_pred == 'win':\n",
    "        win_count += 1\n",
    "    elif result_pred == 'tie':\n",
    "        tie_count += 1\n",
    "    else:\n",
    "        lose_count +=1"
   ]
  },
  {
   "cell_type": "code",
   "execution_count": 7,
   "id": "8e46a0cd",
   "metadata": {},
   "outputs": [
    {
     "data": {
      "text/plain": [
       "(0, 0, 100)"
      ]
     },
     "execution_count": 7,
     "metadata": {},
     "output_type": "execute_result"
    }
   ],
   "source": [
    "win_count, tie_count, lose_count"
   ]
  },
  {
   "cell_type": "markdown",
   "id": "d0578f0a",
   "metadata": {},
   "source": [
    "## Find out Runs at a required stage:"
   ]
  },
  {
   "cell_type": "code",
   "execution_count": 8,
   "id": "fda0ec9e",
   "metadata": {},
   "outputs": [],
   "source": [
    "def find_runs(current_score,current_wickets,current_overs,target):\n",
    "    \n",
    "    runs_ls = []\n",
    "    results_ls = []\n",
    "    win_ls = []\n",
    "    req_runs = []\n",
    "    \n",
    "    for i in range(current_score,target+1):\n",
    "        win_count = 0\n",
    "        tie_count = 0\n",
    "        lose_count = 0\n",
    "        \n",
    "        for j in range(100):\n",
    "            pred_runs = run_prediction(i, current_wickets, current_overs, target)\n",
    "            runs_ls.append(pred_runs) \n",
    "            result_pred = get_win(pred_runs, target)\n",
    "            results_ls.append(result_pred)\n",
    "\n",
    "            if result_pred == 'win':\n",
    "                win_count += 1\n",
    "            elif result_pred == 'tie':\n",
    "                tie_count += 1\n",
    "            else:\n",
    "                lose_count += 1    \n",
    "            \n",
    "            win_ls.append(win_count)\n",
    "            req_runs.append(i)\n",
    "    \n",
    "    required_runs = current_score\n",
    "    for i in range(len(req_runs)):\n",
    "        if win_ls[i] >= 50:\n",
    "            required_runs = req_runs[i]\n",
    "            break\n",
    "            \n",
    "    return required_runs"
   ]
  },
  {
   "cell_type": "code",
   "execution_count": 9,
   "id": "ebf3f2c6",
   "metadata": {},
   "outputs": [
    {
     "data": {
      "text/plain": [
       "112"
      ]
     },
     "execution_count": 9,
     "metadata": {},
     "output_type": "execute_result"
    }
   ],
   "source": [
    "find_runs(78,2,7,171)"
   ]
  },
  {
   "cell_type": "markdown",
   "id": "521fc99c",
   "metadata": {},
   "source": [
    "## Find out Wickets they can afford to lose:"
   ]
  },
  {
   "cell_type": "code",
   "execution_count": 10,
   "id": "81068201",
   "metadata": {},
   "outputs": [],
   "source": [
    "def find_wickets(current_score,current_wickets,current_overs,target):\n",
    "    \n",
    "    runs_ls = []\n",
    "    results_ls = []\n",
    "    win_ls = []\n",
    "    req_wkts = []\n",
    "    \n",
    "    for i in range(current_wickets,10):\n",
    "        win_count = 0\n",
    "        tie_count = 0\n",
    "        lose_count = 0\n",
    "        \n",
    "        for j in range(100):\n",
    "            pred_runs = run_prediction(current_score, i, current_overs, target)\n",
    "            runs_ls.append(pred_runs) \n",
    "            result_pred = get_win(pred_runs, target)\n",
    "            results_ls.append(result_pred)\n",
    "\n",
    "            if result_pred == 'win':\n",
    "                win_count += 1\n",
    "            elif result_pred == 'tie':\n",
    "                tie_count += 1\n",
    "            else:\n",
    "                lose_count += 1    \n",
    "            \n",
    "        win_ls.append(win_count)\n",
    "        req_wkts.append(i)\n",
    "    \n",
    "    required_wkts = current_wickets\n",
    "    for i in range(len(req_wkts)):\n",
    "        if win_ls[i] < 45:\n",
    "            required_wkts = req_wkts[i]\n",
    "            break\n",
    "            \n",
    "    return required_wkts"
   ]
  },
  {
   "cell_type": "code",
   "execution_count": 11,
   "id": "4a618cb7",
   "metadata": {},
   "outputs": [
    {
     "data": {
      "text/plain": [
       "2"
      ]
     },
     "execution_count": 11,
     "metadata": {},
     "output_type": "execute_result"
    }
   ],
   "source": [
    "find_wickets(78,2,7,171)"
   ]
  },
  {
   "cell_type": "markdown",
   "id": "43ff42ec",
   "metadata": {},
   "source": [
    "## Function: Interactive chart"
   ]
  },
  {
   "cell_type": "code",
   "execution_count": 12,
   "id": "b36d8b20",
   "metadata": {
    "id": "7sK7TZpoNGFc"
   },
   "outputs": [],
   "source": [
    "%matplotlib inline\n",
    "from ipywidgets import interactive\n",
    "import ipywidgets as widgets\n",
    "import matplotlib.pyplot as plt\n",
    "import numpy as np\n",
    "\n",
    "def find_runs_wickets(current_wks, at_overs, target_score):\n",
    "    plt.figure(figsize = (16, 6))\n",
    "    # x = np.linspace(-10, 10, num=1000)\n",
    "    x = np.array(list(range(16)))\n",
    "    req_value = find_runs(78, current_wks, at_overs, target_score)\n",
    "    req_wk_value = find_wickets(78, current_wks, at_overs, target_score)\n",
    "\n",
    "    if at_overs == 7:\n",
    "        req_value = 78\n",
    "        req_wk_value = 2\n",
    "\n",
    "    \n",
    "    # print(req_value)\n",
    "    y = np.array([req_value for i in range(16)])\n",
    "\n",
    "    # plt.plot(x, current_overs * x + target_score)\n",
    "    # plt.plot(x, y)\n",
    "    plt.scatter(at_overs, req_value, s = 1500, color = 'y')\n",
    "    plt.axhline(target_score, ls = '--', color = 'blue')\n",
    "    plt.text( 1, target_score + 10, 'Target Score :' + str(target_score) , color = 'darkblue', fontsize = 13)\n",
    "    plt.text( at_overs, req_value, str(req_value) + '/' + str(req_wk_value), color = 'white', fontsize = 12,  horizontalalignment='center', verticalalignment='center')\n",
    "    plt.text(at_overs, req_value - 20, 'CSK has to be at ' + str(req_value) + '/' +  str(req_wk_value) + ' after ' + str(at_overs) + ' overs', horizontalalignment='center')\n",
    "    plt.ylim(50, target_score + 50)\n",
    "    plt.xticks(x)\n",
    "    plt.title('Where should CSK be?', fontsize = 20)\n",
    "    plt.xlabel('Overs')\n",
    "    plt.ylabel('Score')\n",
    "    plt.show()\n",
    "\n",
    "# x=widgets.IntSlider(min=-10, max=30, step=1, value=10)\n",
    "\n",
    "# find_wickets(current_score, target, current_wickets, at_overs)\n",
    "# find_wickets(87, 167, 1, 14)\n"
   ]
  },
  {
   "cell_type": "markdown",
   "id": "a5037793",
   "metadata": {
    "id": "UIIwq0_9NvhM"
   },
   "source": [
    "## Interactive Visualization:"
   ]
  },
  {
   "cell_type": "code",
   "execution_count": 13,
   "id": "bcca1823",
   "metadata": {
    "colab": {
     "base_uri": "https://localhost:8080/",
     "height": 597,
     "referenced_widgets": [
      "914e4eba8237458591a37ed0513acf93",
      "00d7ea82103a4b70a48ea9317ebdad17",
      "13616bed4e104077b81db979ffb58abe",
      "19b097a8005f49c3bbd77bd0dafe285c",
      "24d0e44b50e146c9973a20e194ab73c2",
      "4216fddfff5447b5ad429ad71813b645",
      "992fde4ecb4b40bb8332c1d7f777b8e3",
      "a5a0774f73264072aee6e0e4936c8502",
      "5dc2a2d7df764d04843d36012735fffd",
      "d1d2ccb3931a40a3b3109726908b6d2e",
      "dc91258b78274bff8ff6ba5c76cbdeb3",
      "2a933bb2d3694a2dacd5153efbd1c162",
      "d75102234cfd43179e9fab55e9945a98"
     ]
    },
    "id": "MNfCQQdBCkmH",
    "outputId": "8e40d84d-df4b-443b-bc1f-52c176e5c8f1",
    "scrolled": false
   },
   "outputs": [
    {
     "name": "stdout",
     "output_type": "stream",
     "text": [
      "current_score = IND: 78/2 (7 overs)\n",
      "\n"
     ]
    },
    {
     "data": {
      "application/vnd.jupyter.widget-view+json": {
       "model_id": "6e8cfc146d104f9ea81ebc6ed27ab4cb",
       "version_major": 2,
       "version_minor": 0
      },
      "text/plain": [
       "interactive(children=(IntSlider(value=2, description='current_wks', max=10, min=1), IntSlider(value=7, descrip…"
      ]
     },
     "execution_count": 13,
     "metadata": {},
     "output_type": "execute_result"
    }
   ],
   "source": [
    "print('current_score = IND: 78/2 (7 overs)')\n",
    "print('')\n",
    "\n",
    "interactive_plot = interactive(find_runs_wickets, current_wks = widgets.IntSlider(min=1, max=10, step=1, value=2),  at_overs=widgets.IntSlider(min=7, max=15, step=1, value=7), target_score = widgets.IntSlider(min=0, max=250, step=1, value=171))\n",
    "output = interactive_plot.children[-1]\n",
    "output.layout.height = '450px'\n",
    "interactive_plot"
   ]
  },
  {
   "cell_type": "code",
   "execution_count": null,
   "id": "b30d1716",
   "metadata": {},
   "outputs": [],
   "source": []
  }
 ],
 "metadata": {
  "kernelspec": {
   "display_name": "Python 3 (ipykernel)",
   "language": "python",
   "name": "python3"
  },
  "language_info": {
   "codemirror_mode": {
    "name": "ipython",
    "version": 3
   },
   "file_extension": ".py",
   "mimetype": "text/x-python",
   "name": "python",
   "nbconvert_exporter": "python",
   "pygments_lexer": "ipython3",
   "version": "3.11.3"
  }
 },
 "nbformat": 4,
 "nbformat_minor": 5
}
